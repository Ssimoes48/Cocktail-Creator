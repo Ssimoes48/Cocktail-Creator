{
 "cells": [
  {
   "cell_type": "code",
   "execution_count": 1,
   "metadata": {},
   "outputs": [],
   "source": [
    "import pandas as pd\n",
    "from fractions import Fraction\n",
    "\n",
    "csv_path = \"Data/mr_boston_flattened.csv\""
   ]
  },
  {
   "cell_type": "markdown",
   "metadata": {},
   "source": [
    "## Read CSV file"
   ]
  },
  {
   "cell_type": "code",
   "execution_count": 2,
   "metadata": {},
   "outputs": [],
   "source": [
    "#read csv\n",
    "cocktail_df = pd.read_csv(csv_path, encoding=\"utf-8\")"
   ]
  },
  {
   "cell_type": "markdown",
   "metadata": {},
   "source": [
    "## Define function ## \n",
    "to convert string values to number and clean measurement"
   ]
  },
  {
   "cell_type": "code",
   "execution_count": 3,
   "metadata": {},
   "outputs": [],
   "source": [
    "#function for converting fractions and data cleanup\n",
    "def convert_to_float(frac_str):\n",
    "    try:\n",
    "        return float(frac_str)\n",
    "    except ValueError:\n",
    "        frac_str = frac_str.lower()\n",
    "        if \"or\" in frac_str:\n",
    "            nums = frac_str.split(' or ')\n",
    "            return nums[0]\n",
    "        elif \"  \" in frac_str:\n",
    "            frac_str = frac_str.replace(\"  \", \" \")\n",
    "            print(frac_str)\n",
    "            value = convert_to_float(frac_str)\n",
    "            return value\n",
    "        elif \"tsp\" in frac_str:\n",
    "            frac_str = frac_str.strip(\"tsp\")\n",
    "            print(frac_str)\n",
    "            value = convert_to_float(frac_str)\n",
    "            return value * 0.166667\n",
    "        elif \"750-ml\" in frac_str:\n",
    "            frac_str = frac_str.strip(\"750-ml\")\n",
    "            print(frac_str)\n",
    "            value = convert_to_float(frac_str)\n",
    "            return value * 25.3\n",
    "        elif \"750ml\" in frac_str:\n",
    "            frac_str = frac_str.strip(\"750ml\")\n",
    "            print(frac_str)\n",
    "            return 25.3\n",
    "        elif \"bottles\" in frac_str:\n",
    "            frac_str = frac_str.strip(\"bottles\")\n",
    "            print(frac_str)\n",
    "            value = convert_to_float(frac_str)\n",
    "            return value * 25.3\n",
    "        elif \"for glass\" in frac_str:\n",
    "            nums = frac_str.split('for glass')\n",
    "            return 1\n",
    "        elif \"/\" in frac_str:\n",
    "            num, denom = frac_str.split('/')\n",
    "            try:\n",
    "                leading, num = num.split(' ')\n",
    "                whole = float(leading)\n",
    "            except ValueError:\n",
    "                whole = 0\n",
    "            frac = float(num) / float(denom)\n",
    "            return whole - frac if whole < 0 else whole + frac    \n",
    "        else:\n",
    "            print(\"from else\")\n",
    "            print(frac_str)\n",
    "            return frac_str"
   ]
  },
  {
   "cell_type": "markdown",
   "metadata": {},
   "source": [
    "## Combine all Ingredient and Measure Columns"
   ]
  },
  {
   "cell_type": "code",
   "execution_count": 4,
   "metadata": {},
   "outputs": [],
   "source": [
    "#create Dataframes for each ingredient subset\n",
    "ing1_df = cocktail_df[[\"name\", \"measurement-1\", \"ingredient-1\"]]\n",
    "ing1 = ing1_df.rename(columns= {\"measurement-1\": \"measurement\", \"ingredient-1\":\"ingredient\"})\n",
    "ing2_df = cocktail_df[[\"name\", \"measurement-2\", \"ingredient-2\"]]\n",
    "ing2 = ing2_df.rename(columns= {\"measurement-2\": \"measurement\", \"ingredient-2\":\"ingredient\"})\n",
    "ing3_df = cocktail_df[[\"name\", \"measurement-3\", \"ingredient-3\"]]\n",
    "ing3 = ing3_df.rename(columns= {\"measurement-3\": \"measurement\", \"ingredient-3\":\"ingredient\"})\n",
    "ing4_df = cocktail_df[[\"name\", \"measurement-4\", \"ingredient-4\"]]\n",
    "ing4 = ing4_df.rename(columns= {\"measurement-4\": \"measurement\", \"ingredient-4\":\"ingredient\"})\n",
    "ing5_df = cocktail_df[[\"name\", \"measurement-5\", \"ingredient-5\"]]\n",
    "ing5 = ing5_df.rename(columns= {\"measurement-5\": \"measurement\", \"ingredient-5\":\"ingredient\"})\n",
    "ing6_df = cocktail_df[[\"name\", \"measurement-6\", \"ingredient-6\"]]\n",
    "ing6 = ing6_df.rename(columns= {\"measurement-6\": \"measurement\", \"ingredient-6\":\"ingredient\"})"
   ]
  },
  {
   "cell_type": "code",
   "execution_count": 7,
   "metadata": {},
   "outputs": [
    {
     "data": {
      "text/html": [
       "<div>\n",
       "<style scoped>\n",
       "    .dataframe tbody tr th:only-of-type {\n",
       "        vertical-align: middle;\n",
       "    }\n",
       "\n",
       "    .dataframe tbody tr th {\n",
       "        vertical-align: top;\n",
       "    }\n",
       "\n",
       "    .dataframe thead th {\n",
       "        text-align: right;\n",
       "    }\n",
       "</style>\n",
       "<table border=\"1\" class=\"dataframe\">\n",
       "  <thead>\n",
       "    <tr style=\"text-align: right;\">\n",
       "      <th></th>\n",
       "      <th>name</th>\n",
       "      <th>measurement</th>\n",
       "      <th>ingredient</th>\n",
       "    </tr>\n",
       "  </thead>\n",
       "  <tbody>\n",
       "    <tr>\n",
       "      <th>0</th>\n",
       "      <td>Gauguin</td>\n",
       "      <td>2 oz</td>\n",
       "      <td>Light Rum</td>\n",
       "    </tr>\n",
       "    <tr>\n",
       "      <th>1</th>\n",
       "      <td>Fort Lauderdale</td>\n",
       "      <td>1 1/2 oz</td>\n",
       "      <td>Light Rum</td>\n",
       "    </tr>\n",
       "    <tr>\n",
       "      <th>2</th>\n",
       "      <td>Apple Pie</td>\n",
       "      <td>3 oz</td>\n",
       "      <td>Apple schnapps</td>\n",
       "    </tr>\n",
       "    <tr>\n",
       "      <th>3</th>\n",
       "      <td>Cuban Cocktail No. 1</td>\n",
       "      <td>1/2 oz</td>\n",
       "      <td>Juice of a Lime</td>\n",
       "    </tr>\n",
       "    <tr>\n",
       "      <th>4</th>\n",
       "      <td>Cool Carlos</td>\n",
       "      <td>1 1/2 oz</td>\n",
       "      <td>Dark rum</td>\n",
       "    </tr>\n",
       "    <tr>\n",
       "      <th>...</th>\n",
       "      <td>...</td>\n",
       "      <td>...</td>\n",
       "      <td>...</td>\n",
       "    </tr>\n",
       "    <tr>\n",
       "      <th>985</th>\n",
       "      <td>Wallis Blue Cocktail</td>\n",
       "      <td>NaN</td>\n",
       "      <td>NaN</td>\n",
       "    </tr>\n",
       "    <tr>\n",
       "      <th>986</th>\n",
       "      <td>Minnehaha Cocktail</td>\n",
       "      <td>NaN</td>\n",
       "      <td>NaN</td>\n",
       "    </tr>\n",
       "    <tr>\n",
       "      <th>987</th>\n",
       "      <td>Wallick Cocktail</td>\n",
       "      <td>NaN</td>\n",
       "      <td>NaN</td>\n",
       "    </tr>\n",
       "    <tr>\n",
       "      <th>988</th>\n",
       "      <td>Waikiki Beachcomber</td>\n",
       "      <td>NaN</td>\n",
       "      <td>NaN</td>\n",
       "    </tr>\n",
       "    <tr>\n",
       "      <th>989</th>\n",
       "      <td>Vow Of Silence</td>\n",
       "      <td>1/4 oz</td>\n",
       "      <td>Simple Syrup</td>\n",
       "    </tr>\n",
       "  </tbody>\n",
       "</table>\n",
       "<p>5940 rows × 3 columns</p>\n",
       "</div>"
      ],
      "text/plain": [
       "                     name measurement        ingredient\n",
       "0                 Gauguin        2 oz         Light Rum\n",
       "1         Fort Lauderdale    1 1/2 oz         Light Rum\n",
       "2               Apple Pie        3 oz    Apple schnapps\n",
       "3    Cuban Cocktail No. 1      1/2 oz   Juice of a Lime\n",
       "4             Cool Carlos    1 1/2 oz          Dark rum\n",
       "..                    ...         ...               ...\n",
       "985  Wallis Blue Cocktail         NaN               NaN\n",
       "986    Minnehaha Cocktail         NaN               NaN\n",
       "987      Wallick Cocktail         NaN               NaN\n",
       "988   Waikiki Beachcomber         NaN               NaN\n",
       "989        Vow Of Silence      1/4 oz      Simple Syrup\n",
       "\n",
       "[5940 rows x 3 columns]"
      ]
     },
     "execution_count": 7,
     "metadata": {},
     "output_type": "execute_result"
    }
   ],
   "source": [
    "#combine data frames and sort\n",
    "frames = [ing1, ing2, ing3, ing4, ing5, ing6]\n",
    "\n",
    "working_df = pd.concat(frames)\n",
    "working_df"
   ]
  },
  {
   "cell_type": "code",
   "execution_count": 39,
   "metadata": {},
   "outputs": [
    {
     "data": {
      "text/html": [
       "<div>\n",
       "<style scoped>\n",
       "    .dataframe tbody tr th:only-of-type {\n",
       "        vertical-align: middle;\n",
       "    }\n",
       "\n",
       "    .dataframe tbody tr th {\n",
       "        vertical-align: top;\n",
       "    }\n",
       "\n",
       "    .dataframe thead th {\n",
       "        text-align: right;\n",
       "    }\n",
       "</style>\n",
       "<table border=\"1\" class=\"dataframe\">\n",
       "  <thead>\n",
       "    <tr style=\"text-align: right;\">\n",
       "      <th></th>\n",
       "      <th>name</th>\n",
       "      <th>measurement</th>\n",
       "      <th>ingredient</th>\n",
       "    </tr>\n",
       "  </thead>\n",
       "  <tbody>\n",
       "    <tr>\n",
       "      <th>0</th>\n",
       "      <td>Gauguin</td>\n",
       "      <td>2 oz</td>\n",
       "      <td>Light Rum</td>\n",
       "    </tr>\n",
       "    <tr>\n",
       "      <th>1</th>\n",
       "      <td>Fort Lauderdale</td>\n",
       "      <td>1 1/2 oz</td>\n",
       "      <td>Light Rum</td>\n",
       "    </tr>\n",
       "    <tr>\n",
       "      <th>2</th>\n",
       "      <td>Apple Pie</td>\n",
       "      <td>3 oz</td>\n",
       "      <td>Apple schnapps</td>\n",
       "    </tr>\n",
       "    <tr>\n",
       "      <th>3</th>\n",
       "      <td>Cuban Cocktail No. 1</td>\n",
       "      <td>1/2 oz</td>\n",
       "      <td>Juice of a Lime</td>\n",
       "    </tr>\n",
       "    <tr>\n",
       "      <th>4</th>\n",
       "      <td>Cool Carlos</td>\n",
       "      <td>1 1/2 oz</td>\n",
       "      <td>Dark rum</td>\n",
       "    </tr>\n",
       "    <tr>\n",
       "      <th>...</th>\n",
       "      <td>...</td>\n",
       "      <td>...</td>\n",
       "      <td>...</td>\n",
       "    </tr>\n",
       "    <tr>\n",
       "      <th>3929</th>\n",
       "      <td>Bloody Maria</td>\n",
       "      <td>1</td>\n",
       "      <td>Lemon wheel</td>\n",
       "    </tr>\n",
       "    <tr>\n",
       "      <th>3930</th>\n",
       "      <td>Amante Picante</td>\n",
       "      <td>2 oz</td>\n",
       "      <td>Jalapeno hot pepper sauce, cucumber slice</td>\n",
       "    </tr>\n",
       "    <tr>\n",
       "      <th>3931</th>\n",
       "      <td>Betsy Ross Cocktail</td>\n",
       "      <td>1 1/4 oz</td>\n",
       "      <td>Old Mr. Boston Dry Gin</td>\n",
       "    </tr>\n",
       "    <tr>\n",
       "      <th>3932</th>\n",
       "      <td>The Winkle</td>\n",
       "      <td>4 oz</td>\n",
       "      <td>Raspberries, lemon twist</td>\n",
       "    </tr>\n",
       "    <tr>\n",
       "      <th>3933</th>\n",
       "      <td>Vow Of Silence</td>\n",
       "      <td>1/4 oz</td>\n",
       "      <td>Simple Syrup</td>\n",
       "    </tr>\n",
       "  </tbody>\n",
       "</table>\n",
       "<p>3934 rows × 3 columns</p>\n",
       "</div>"
      ],
      "text/plain": [
       "                      name measurement  \\\n",
       "0                  Gauguin        2 oz   \n",
       "1          Fort Lauderdale    1 1/2 oz   \n",
       "2                Apple Pie        3 oz   \n",
       "3     Cuban Cocktail No. 1      1/2 oz   \n",
       "4              Cool Carlos    1 1/2 oz   \n",
       "...                    ...         ...   \n",
       "3929          Bloody Maria           1   \n",
       "3930        Amante Picante        2 oz   \n",
       "3931   Betsy Ross Cocktail    1 1/4 oz   \n",
       "3932            The Winkle        4 oz   \n",
       "3933        Vow Of Silence      1/4 oz   \n",
       "\n",
       "                                      ingredient  \n",
       "0                                      Light Rum  \n",
       "1                                      Light Rum  \n",
       "2                                 Apple schnapps  \n",
       "3                                Juice of a Lime  \n",
       "4                                       Dark rum  \n",
       "...                                          ...  \n",
       "3929                                 Lemon wheel  \n",
       "3930   Jalapeno hot pepper sauce, cucumber slice  \n",
       "3931                      Old Mr. Boston Dry Gin  \n",
       "3932                    Raspberries, lemon twist  \n",
       "3933                                Simple Syrup  \n",
       "\n",
       "[3934 rows x 3 columns]"
      ]
     },
     "execution_count": 39,
     "metadata": {},
     "output_type": "execute_result"
    }
   ],
   "source": [
    "working_df = new_cocktail_df.dropna(subset =['ingredient'])\n",
    "reset_df = working_df.reset_index(inplace= False)\n",
    "reset2_df = reset_df.drop('index', 1)\n",
    "reset2_df['measurement'] = reset2_df['measurement'].fillna(1)\n",
    "reset2_df"
   ]
  },
  {
   "cell_type": "code",
   "execution_count": 41,
   "metadata": {},
   "outputs": [],
   "source": [
    "# #Add columns\n",
    "# working_df['unit'] = (\"\")\n",
    "# working_df['bool'] = (\"\")"
   ]
  },
  {
   "cell_type": "code",
   "execution_count": 50,
   "metadata": {},
   "outputs": [],
   "source": [
    "reset2_df['bool'] = reset2_df['measurement'].str.contains(' oz')\n",
    "reset2_df['bool'] = reset2_df['bool'].fillna('False')\n",
    "reset2_df['unit'] = \"\""
   ]
  },
  {
   "cell_type": "code",
   "execution_count": 54,
   "metadata": {},
   "outputs": [],
   "source": [
    "for row, index in reset2_df.iterrows():\n",
    "        if reset2_df['bool'][row] == True:\n",
    "            reset2_df['unit'][row] = (\"Fl Oz\")\n",
    "        else:\n",
    "            reset2_df['unit'][row] = (\"garnish\")\n",
    "            "
   ]
  },
  {
   "cell_type": "code",
   "execution_count": 55,
   "metadata": {},
   "outputs": [],
   "source": [
    "reset2_df.to_csv(\"Data/ingredients.csv\", index=False, header=True, encoding=\"UTF-8\")"
   ]
  },
  {
   "cell_type": "code",
   "execution_count": 16,
   "metadata": {},
   "outputs": [
    {
     "ename": "NameError",
     "evalue": "name 'final_df' is not defined",
     "output_type": "error",
     "traceback": [
      "\u001b[0;31m---------------------------------------------------------------------------\u001b[0m",
      "\u001b[0;31mNameError\u001b[0m                                 Traceback (most recent call last)",
      "\u001b[0;32m<ipython-input-16-e7108e68fb38>\u001b[0m in \u001b[0;36m<module>\u001b[0;34m\u001b[0m\n\u001b[1;32m      1\u001b[0m \u001b[0;31m#divide into fluid measures and others\u001b[0m\u001b[0;34m\u001b[0m\u001b[0;34m\u001b[0m\u001b[0;34m\u001b[0m\u001b[0m\n\u001b[0;32m----> 2\u001b[0;31m \u001b[0mliquid_df\u001b[0m \u001b[0;34m=\u001b[0m \u001b[0mfinal_df\u001b[0m\u001b[0;34m[\u001b[0m\u001b[0mfinal_df\u001b[0m\u001b[0;34m[\u001b[0m\u001b[0;34m'unit'\u001b[0m\u001b[0;34m]\u001b[0m \u001b[0;34m==\u001b[0m \u001b[0;34m\"Fl Oz\"\u001b[0m\u001b[0;34m]\u001b[0m\u001b[0;34m\u001b[0m\u001b[0;34m\u001b[0m\u001b[0m\n\u001b[0m\u001b[1;32m      3\u001b[0m \u001b[0mother_df\u001b[0m \u001b[0;34m=\u001b[0m \u001b[0mfinal_df\u001b[0m\u001b[0;34m[\u001b[0m\u001b[0mfinal_df\u001b[0m\u001b[0;34m[\u001b[0m\u001b[0;34m'unit'\u001b[0m\u001b[0;34m]\u001b[0m \u001b[0;34m!=\u001b[0m \u001b[0;34m\"Fl Oz\"\u001b[0m\u001b[0;34m]\u001b[0m\u001b[0;34m\u001b[0m\u001b[0;34m\u001b[0m\u001b[0m\n\u001b[1;32m      4\u001b[0m \u001b[0;34m\u001b[0m\u001b[0m\n\u001b[1;32m      5\u001b[0m \u001b[0;31m#strip oz from liquid_df\u001b[0m\u001b[0;34m\u001b[0m\u001b[0;34m\u001b[0m\u001b[0;34m\u001b[0m\u001b[0m\n",
      "\u001b[0;31mNameError\u001b[0m: name 'final_df' is not defined"
     ]
    }
   ],
   "source": [
    "#strip oz\n",
    "reset2_df['measurement']= liquid_df['measurement'].str.strip(\"oz\")\n",
    "\n",
    "\n"
   ]
  },
  {
   "cell_type": "code",
   "execution_count": 17,
   "metadata": {},
   "outputs": [
    {
     "ename": "NameError",
     "evalue": "name 'ingred_df' is not defined",
     "output_type": "error",
     "traceback": [
      "\u001b[0;31m---------------------------------------------------------------------------\u001b[0m",
      "\u001b[0;31mNameError\u001b[0m                                 Traceback (most recent call last)",
      "\u001b[0;32m<ipython-input-17-34c6bddea105>\u001b[0m in \u001b[0;36m<module>\u001b[0;34m\u001b[0m\n\u001b[0;32m----> 1\u001b[0;31m \u001b[0mingred_df\u001b[0m\u001b[0;34m\u001b[0m\u001b[0;34m\u001b[0m\u001b[0m\n\u001b[0m",
      "\u001b[0;31mNameError\u001b[0m: name 'ingred_df' is not defined"
     ]
    }
   ],
   "source": [
    "ingred_df"
   ]
  },
  {
   "cell_type": "markdown",
   "metadata": {},
   "source": [
    "## Run function and reindex"
   ]
  },
  {
   "cell_type": "code",
   "execution_count": null,
   "metadata": {},
   "outputs": [],
   "source": [
    "ingred_df.to_csv(\"Data/ingredients.csv\", index=False, header=True, encoding=\"UTF-8\")"
   ]
  },
  {
   "cell_type": "code",
   "execution_count": null,
   "metadata": {},
   "outputs": [],
   "source": [
    "#apply function to convert fractions\n",
    "final_ingredient_df['measurement'] = final_ingredient_df['measurement'].apply(convert_to_float)"
   ]
  },
  {
   "cell_type": "code",
   "execution_count": null,
   "metadata": {},
   "outputs": [],
   "source": []
  },
  {
   "cell_type": "code",
   "execution_count": null,
   "metadata": {},
   "outputs": [],
   "source": [
    "# Loop through columns and strip units\n",
    "for row, index in final_ingredient_df.iterrows():\n",
    "        if cocktail_df['measurement'].str.contains(pat = 'oz'):\n",
    "            cocktail_df['measurement'] = cocktail_df['measurement'].str.strip(\" oz\")\n",
    "            coctail_df['unit']= \"Fl Oz\"\n",
    "        else:\n",
    "            coctail_df['unit']= \"\"\n",
    "    \n",
    "cocktail_df.head()"
   ]
  },
  {
   "cell_type": "code",
   "execution_count": null,
   "metadata": {},
   "outputs": [],
   "source": [
    "for row, index in final_ingredient_df.iterrows():\n",
    "    if isinstance(final_ingredient_df['measurement'][row], str):\n",
    "        final_ingredient_df['unit'] = final_ingredient_df['measurement']\n",
    "#         print('Type of variable is string')\n",
    "    else:\n",
    "        final_ingredient_df['unit'] = ('Fl Oz')\n",
    "#         print('Type is variable is not string')"
   ]
  },
  {
   "cell_type": "code",
   "execution_count": null,
   "metadata": {},
   "outputs": [],
   "source": [
    "# final_ingredient_df.ingredient.unique()"
   ]
  },
  {
   "cell_type": "code",
   "execution_count": null,
   "metadata": {},
   "outputs": [],
   "source": [
    "final_ingredient_df.to_csv(\"Data/ingredients.csv\", index=False, header=True, encoding=\"UTF-8\")"
   ]
  },
  {
   "cell_type": "code",
   "execution_count": null,
   "metadata": {},
   "outputs": [],
   "source": []
  },
  {
   "cell_type": "code",
   "execution_count": null,
   "metadata": {},
   "outputs": [],
   "source": [
    "# # Create list of measurement columns to loop through\n",
    "# ingredient_cols = [\"ingredient-1\",\"ingredient-2\",\"ingredient-3\",\"ingredient-4\",\"ingredient-5\",\"ingredient-6\"]\n",
    "# measurement_cols = [\"measurement-1\", \"measurement-2\", \"measurement-3\", \"measurement-4\", \"measurement-5\", \"measurement-6\"]\n",
    "\n",
    "# # Loop through columns and strip units\n",
    "# for col in measurement_cols:\n",
    "#         cocktail_df[col]= cocktail_df[col].str.strip(\" oz\")\n",
    "    \n",
    "# cocktail_df.head()"
   ]
  },
  {
   "cell_type": "code",
   "execution_count": null,
   "metadata": {},
   "outputs": [],
   "source": [
    "# from sqlalchemy import create_engine\n",
    "# from config import postgres_pwd, postgres_user\n",
    "\n",
    "# db_name = \"cocktail_creator\"\n",
    "# table_name = \"ingredients\"\n",
    "\n",
    "# connection_string = f\"{postgres_user}:{postgres_pwd}@localhost:5432/{db_name}\"\n",
    "# engine = create_engine(f'postgresql://{connection_string}')\n",
    "# conn = engine.connect()\n",
    "\n",
    "# clean_df.to_sql(table_name, con=engine, if_exists=\"append\", index=False)\n",
    "\n",
    "# conn.close()"
   ]
  }
 ],
 "metadata": {
  "kernelspec": {
   "display_name": "Python 3",
   "language": "python",
   "name": "python3"
  },
  "language_info": {
   "codemirror_mode": {
    "name": "ipython",
    "version": 3
   },
   "file_extension": ".py",
   "mimetype": "text/x-python",
   "name": "python",
   "nbconvert_exporter": "python",
   "pygments_lexer": "ipython3",
   "version": "3.8.5"
  }
 },
 "nbformat": 4,
 "nbformat_minor": 4
}
