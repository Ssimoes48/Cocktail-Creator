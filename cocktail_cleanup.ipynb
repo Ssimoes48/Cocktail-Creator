{
 "cells": [
  {
   "cell_type": "code",
   "execution_count": 5,
   "metadata": {},
   "outputs": [],
   "source": [
    "import pandas as pd\n",
    "import numpy as np\n",
    "from fractions import Fraction\n",
    "\n",
    "\n",
    "csv_path = \"Data/mr_boston_flattened.csv\""
   ]
  },
  {
   "cell_type": "code",
   "execution_count": 6,
   "metadata": {},
   "outputs": [],
   "source": [
    "cocktail_df = pd.read_csv(csv_path, encoding=\"utf-8\")"
   ]
  },
  {
   "cell_type": "code",
   "execution_count": 7,
   "metadata": {},
   "outputs": [
    {
     "name": "stdout",
     "output_type": "stream",
     "text": [
      "5.0\n",
      "0.08\n",
      "0.17\n",
      "0.5\n"
     ]
    },
    {
     "ename": "ValueError",
     "evalue": "Invalid literal for Fraction: 'Soda water'",
     "output_type": "error",
     "traceback": [
      "\u001b[1;31m---------------------------------------------------------------------------\u001b[0m",
      "\u001b[1;31mValueError\u001b[0m                                Traceback (most recent call last)",
      "\u001b[1;32m<ipython-input-7-bccfabb626a2>\u001b[0m in \u001b[0;36m<module>\u001b[1;34m\u001b[0m\n\u001b[0;32m     18\u001b[0m \u001b[1;33m\u001b[0m\u001b[0m\n\u001b[0;32m     19\u001b[0m         \u001b[1;32melif\u001b[0m \u001b[1;33m(\u001b[0m\u001b[1;34m\"or\"\u001b[0m \u001b[1;32min\u001b[0m \u001b[0mrow\u001b[0m\u001b[1;33m)\u001b[0m\u001b[1;33m:\u001b[0m\u001b[1;33m\u001b[0m\u001b[1;33m\u001b[0m\u001b[0m\n\u001b[1;32m---> 20\u001b[1;33m             \u001b[0mrow\u001b[0m \u001b[1;33m=\u001b[0m \u001b[0mround\u001b[0m\u001b[1;33m(\u001b[0m\u001b[0mfloat\u001b[0m\u001b[1;33m(\u001b[0m\u001b[0mFraction\u001b[0m\u001b[1;33m(\u001b[0m\u001b[0mrow\u001b[0m\u001b[1;33m.\u001b[0m\u001b[0msplit\u001b[0m\u001b[1;33m(\u001b[0m\u001b[1;34m\" or\"\u001b[0m\u001b[1;33m)\u001b[0m\u001b[1;33m[\u001b[0m\u001b[1;36m0\u001b[0m\u001b[1;33m]\u001b[0m\u001b[1;33m)\u001b[0m\u001b[1;33m)\u001b[0m\u001b[1;33m,\u001b[0m \u001b[1;36m2\u001b[0m\u001b[1;33m)\u001b[0m\u001b[1;33m\u001b[0m\u001b[1;33m\u001b[0m\u001b[0m\n\u001b[0m\u001b[0;32m     21\u001b[0m             \u001b[0mcocktail_df\u001b[0m\u001b[1;33m[\u001b[0m\u001b[0mcol\u001b[0m\u001b[1;33m]\u001b[0m\u001b[1;33m[\u001b[0m\u001b[0mindex\u001b[0m\u001b[1;33m]\u001b[0m \u001b[1;33m=\u001b[0m \u001b[0mrow\u001b[0m\u001b[1;33m\u001b[0m\u001b[1;33m\u001b[0m\u001b[0m\n\u001b[0;32m     22\u001b[0m             \u001b[0mprint\u001b[0m\u001b[1;33m(\u001b[0m\u001b[0mcocktail_df\u001b[0m\u001b[1;33m[\u001b[0m\u001b[0mcol\u001b[0m\u001b[1;33m]\u001b[0m\u001b[1;33m[\u001b[0m\u001b[0mindex\u001b[0m\u001b[1;33m]\u001b[0m\u001b[1;33m)\u001b[0m\u001b[1;33m\u001b[0m\u001b[1;33m\u001b[0m\u001b[0m\n",
      "\u001b[1;32m~\\Anaconda3\\lib\\fractions.py\u001b[0m in \u001b[0;36m__new__\u001b[1;34m(cls, numerator, denominator, _normalize)\u001b[0m\n\u001b[0;32m    135\u001b[0m                 \u001b[0mm\u001b[0m \u001b[1;33m=\u001b[0m \u001b[0m_RATIONAL_FORMAT\u001b[0m\u001b[1;33m.\u001b[0m\u001b[0mmatch\u001b[0m\u001b[1;33m(\u001b[0m\u001b[0mnumerator\u001b[0m\u001b[1;33m)\u001b[0m\u001b[1;33m\u001b[0m\u001b[1;33m\u001b[0m\u001b[0m\n\u001b[0;32m    136\u001b[0m                 \u001b[1;32mif\u001b[0m \u001b[0mm\u001b[0m \u001b[1;32mis\u001b[0m \u001b[1;32mNone\u001b[0m\u001b[1;33m:\u001b[0m\u001b[1;33m\u001b[0m\u001b[1;33m\u001b[0m\u001b[0m\n\u001b[1;32m--> 137\u001b[1;33m                     raise ValueError('Invalid literal for Fraction: %r' %\n\u001b[0m\u001b[0;32m    138\u001b[0m                                      numerator)\n\u001b[0;32m    139\u001b[0m                 \u001b[0mnumerator\u001b[0m \u001b[1;33m=\u001b[0m \u001b[0mint\u001b[0m\u001b[1;33m(\u001b[0m\u001b[0mm\u001b[0m\u001b[1;33m.\u001b[0m\u001b[0mgroup\u001b[0m\u001b[1;33m(\u001b[0m\u001b[1;34m'num'\u001b[0m\u001b[1;33m)\u001b[0m \u001b[1;32mor\u001b[0m \u001b[1;34m'0'\u001b[0m\u001b[1;33m)\u001b[0m\u001b[1;33m\u001b[0m\u001b[1;33m\u001b[0m\u001b[0m\n",
      "\u001b[1;31mValueError\u001b[0m: Invalid literal for Fraction: 'Soda water'"
     ]
    }
   ],
   "source": [
    "# Create list of measurement columns to loop through\n",
    "measurement_cols = [\"measurement-1\", \"measurement-2\", \"measurement-3\", \"measurement-4\", \"measurement-5\", \"measurement-6\"]\n",
    "\n",
    "# Loop through columns and strip units\n",
    "for col in measurement_cols:\n",
    "    cocktail_df[col] = cocktail_df[col].str.strip(\" oz\")\n",
    "    \n",
    "    for index, value in cocktail_df[col].items():\n",
    "        row = str(value)\n",
    "        if (\"tsp\" in row):\n",
    "            row = round(float(Fraction(row.split(\" tsp\")[0]))/6, 2)\n",
    "            cocktail_df[col][index] = row\n",
    "            print(cocktail_df[col][index])\n",
    "            \n",
    "        elif (\"glass\" in row):\n",
    "            row = 2.5\n",
    "            cocktail_df[col][index] = row\n",
    "            \n",
    "        elif (\"or\" in row):\n",
    "            row = round(float(Fraction(row.split(\" or\")[0])), 2)\n",
    "            cocktail_df[col][index] = row\n",
    "            print(cocktail_df[col][index])\n",
    "            \n",
    "        else:\n",
    "            if (len(row.split()) == 2):\n",
    "                try:\n",
    "                    row = row.split()\n",
    "                    row = round(float(Fraction(row[0]))+float(Fraction(row[1])), 2)\n",
    "                    \n",
    "                    cocktail_df[col][index] = row\n",
    "                    \n",
    "                except ValueError:\n",
    "                    row = 1.5\n",
    "\n",
    "            elif (pd.notna(row)) & (len(row.split()) == 1):\n",
    "                try:\n",
    "                    row = row.split()\n",
    "                    row = round(float(Fraction(row[0])), 2)\n",
    "                    \n",
    "                    cocktail_df[col][index] = row\n",
    "\n",
    "                except ValueError:\n",
    "                    row = 1.5\n",
    "    \n",
    "cocktail_df.head()"
   ]
  },
  {
   "cell_type": "code",
   "execution_count": 8,
   "metadata": {},
   "outputs": [
    {
     "ename": "TypeError",
     "evalue": "'float' object is not subscriptable",
     "output_type": "error",
     "traceback": [
      "\u001b[1;31m---------------------------------------------------------------------------\u001b[0m",
      "\u001b[1;31mTypeError\u001b[0m                                 Traceback (most recent call last)",
      "\u001b[1;32m<ipython-input-8-0deab70b14f7>\u001b[0m in \u001b[0;36m<module>\u001b[1;34m\u001b[0m\n\u001b[0;32m      1\u001b[0m \u001b[1;32mfor\u001b[0m \u001b[0mcol\u001b[0m \u001b[1;32min\u001b[0m \u001b[0mmeasurement_cols\u001b[0m\u001b[1;33m:\u001b[0m\u001b[1;33m\u001b[0m\u001b[1;33m\u001b[0m\u001b[0m\n\u001b[1;32m----> 2\u001b[1;33m     \u001b[0mfloat\u001b[0m\u001b[1;33m(\u001b[0m\u001b[0mFraction\u001b[0m\u001b[1;33m(\u001b[0m\u001b[0mcocktail_df\u001b[0m\u001b[1;33m[\u001b[0m\u001b[1;34m\"measurement-1\"\u001b[0m\u001b[1;33m]\u001b[0m\u001b[1;33m[\u001b[0m\u001b[1;36m1\u001b[0m\u001b[1;33m]\u001b[0m\u001b[1;33m[\u001b[0m\u001b[1;36m1\u001b[0m\u001b[1;33m]\u001b[0m\u001b[1;33m)\u001b[0m\u001b[1;33m)\u001b[0m\u001b[1;33m+\u001b[0m\u001b[0mfloat\u001b[0m\u001b[1;33m(\u001b[0m\u001b[0mFraction\u001b[0m\u001b[1;33m(\u001b[0m\u001b[0mcocktail_df\u001b[0m\u001b[1;33m[\u001b[0m\u001b[1;34m\"measurement-1\"\u001b[0m\u001b[1;33m]\u001b[0m\u001b[1;33m[\u001b[0m\u001b[1;36m1\u001b[0m\u001b[1;33m]\u001b[0m\u001b[1;33m[\u001b[0m\u001b[1;36m0\u001b[0m\u001b[1;33m]\u001b[0m\u001b[1;33m)\u001b[0m\u001b[1;33m)\u001b[0m\u001b[1;33m\u001b[0m\u001b[1;33m\u001b[0m\u001b[0m\n\u001b[0m",
      "\u001b[1;31mTypeError\u001b[0m: 'float' object is not subscriptable"
     ]
    }
   ],
   "source": [
    "for col in measurement_cols:\n",
    "    float(Fraction(cocktail_df[\"measurement-1\"][1][1]))+float(Fraction(cocktail_df[\"measurement-1\"][1][0]))"
   ]
  },
  {
   "cell_type": "code",
   "execution_count": null,
   "metadata": {},
   "outputs": [],
   "source": [
    "\n",
    "if len(cocktail_df[\"measurement-1\"].str.split()) == 2:\n",
    "    cocktail_df[\"measurement-1\"] = float(Fraction(cocktail_df[\"measurement-1\"][0]))+float(Fraction(cocktail_df[\"measurement-1\"][1]))\n",
    "    \n",
    "cocktail_df"
   ]
  },
  {
   "cell_type": "code",
   "execution_count": 20,
   "metadata": {},
   "outputs": [],
   "source": [
    "for row, index in cocktail_df[measurement_cols].iterrows():\n",
    "    row = str(row)\n",
    "    if (pd.notna(row)) & (len(row.split()) == 2):\n",
    "        try:\n",
    "            row = row.split()\n",
    "            row = round(float(Fraction(row[0]))+float(Fraction(row[1])), 2)\n",
    "            print(row, index)\n",
    "        except ValueError:\n",
    "            row = 1.5\n",
    "        print(row, index)\n",
    "    elif (pd.notna(row)) & (len(row.split()) == 1):\n",
    "        try:\n",
    "            row = row.split()\n",
    "            row = round(float(Fraction(row[0])), 2)\n",
    "\n",
    "        except ValueError:\n",
    "            row = 1.5"
   ]
  }
 ],
 "metadata": {
  "kernelspec": {
   "display_name": "Python 3",
   "language": "python",
   "name": "python3"
  },
  "language_info": {
   "codemirror_mode": {
    "name": "ipython",
    "version": 3
   },
   "file_extension": ".py",
   "mimetype": "text/x-python",
   "name": "python",
   "nbconvert_exporter": "python",
   "pygments_lexer": "ipython3",
   "version": "3.8.3"
  },
  "toc": {
   "base_numbering": 1,
   "nav_menu": {},
   "number_sections": true,
   "sideBar": true,
   "skip_h1_title": false,
   "title_cell": "Table of Contents",
   "title_sidebar": "Contents",
   "toc_cell": false,
   "toc_position": {},
   "toc_section_display": true,
   "toc_window_display": false
  },
  "varInspector": {
   "cols": {
    "lenName": 16,
    "lenType": 16,
    "lenVar": 40
   },
   "kernels_config": {
    "python": {
     "delete_cmd_postfix": "",
     "delete_cmd_prefix": "del ",
     "library": "var_list.py",
     "varRefreshCmd": "print(var_dic_list())"
    },
    "r": {
     "delete_cmd_postfix": ") ",
     "delete_cmd_prefix": "rm(",
     "library": "var_list.r",
     "varRefreshCmd": "cat(var_dic_list()) "
    }
   },
   "types_to_exclude": [
    "module",
    "function",
    "builtin_function_or_method",
    "instance",
    "_Feature"
   ],
   "window_display": false
  }
 },
 "nbformat": 4,
 "nbformat_minor": 4
}
