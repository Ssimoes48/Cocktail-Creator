{
 "cells": [
  {
   "cell_type": "code",
   "execution_count": 27,
   "metadata": {},
   "outputs": [],
   "source": [
    "import pandas as pd\n",
    "import numpy as np\n",
    "from fractions import Fraction\n",
    "\n",
    "\n",
    "csv_path = \"Data/mr_boston_flattened.csv\""
   ]
  },
  {
   "cell_type": "code",
   "execution_count": 40,
   "metadata": {},
   "outputs": [],
   "source": [
    "cocktail_df = pd.read_csv(csv_path, encoding=\"utf-8\")"
   ]
  },
  {
   "cell_type": "code",
   "execution_count": 48,
   "metadata": {},
   "outputs": [
    {
     "ename": "ValueError",
     "evalue": "Invalid literal for Fraction: 'Soda water'",
     "output_type": "error",
     "traceback": [
      "\u001b[1;31m---------------------------------------------------------------------------\u001b[0m",
      "\u001b[1;31mValueError\u001b[0m                                Traceback (most recent call last)",
      "\u001b[1;32m<ipython-input-48-bccfabb626a2>\u001b[0m in \u001b[0;36m<module>\u001b[1;34m\u001b[0m\n\u001b[0;32m     18\u001b[0m \u001b[1;33m\u001b[0m\u001b[0m\n\u001b[0;32m     19\u001b[0m         \u001b[1;32melif\u001b[0m \u001b[1;33m(\u001b[0m\u001b[1;34m\"or\"\u001b[0m \u001b[1;32min\u001b[0m \u001b[0mrow\u001b[0m\u001b[1;33m)\u001b[0m\u001b[1;33m:\u001b[0m\u001b[1;33m\u001b[0m\u001b[1;33m\u001b[0m\u001b[0m\n\u001b[1;32m---> 20\u001b[1;33m             \u001b[0mrow\u001b[0m \u001b[1;33m=\u001b[0m \u001b[0mround\u001b[0m\u001b[1;33m(\u001b[0m\u001b[0mfloat\u001b[0m\u001b[1;33m(\u001b[0m\u001b[0mFraction\u001b[0m\u001b[1;33m(\u001b[0m\u001b[0mrow\u001b[0m\u001b[1;33m.\u001b[0m\u001b[0msplit\u001b[0m\u001b[1;33m(\u001b[0m\u001b[1;34m\" or\"\u001b[0m\u001b[1;33m)\u001b[0m\u001b[1;33m[\u001b[0m\u001b[1;36m0\u001b[0m\u001b[1;33m]\u001b[0m\u001b[1;33m)\u001b[0m\u001b[1;33m)\u001b[0m\u001b[1;33m,\u001b[0m \u001b[1;36m2\u001b[0m\u001b[1;33m)\u001b[0m\u001b[1;33m\u001b[0m\u001b[1;33m\u001b[0m\u001b[0m\n\u001b[0m\u001b[0;32m     21\u001b[0m             \u001b[0mcocktail_df\u001b[0m\u001b[1;33m[\u001b[0m\u001b[0mcol\u001b[0m\u001b[1;33m]\u001b[0m\u001b[1;33m[\u001b[0m\u001b[0mindex\u001b[0m\u001b[1;33m]\u001b[0m \u001b[1;33m=\u001b[0m \u001b[0mrow\u001b[0m\u001b[1;33m\u001b[0m\u001b[1;33m\u001b[0m\u001b[0m\n\u001b[0;32m     22\u001b[0m             \u001b[0mprint\u001b[0m\u001b[1;33m(\u001b[0m\u001b[0mcocktail_df\u001b[0m\u001b[1;33m[\u001b[0m\u001b[0mcol\u001b[0m\u001b[1;33m]\u001b[0m\u001b[1;33m[\u001b[0m\u001b[0mindex\u001b[0m\u001b[1;33m]\u001b[0m\u001b[1;33m)\u001b[0m\u001b[1;33m\u001b[0m\u001b[1;33m\u001b[0m\u001b[0m\n",
      "\u001b[1;32m~\\anaconda3\\envs\\PythonData\\lib\\fractions.py\u001b[0m in \u001b[0;36m__new__\u001b[1;34m(cls, numerator, denominator, _normalize)\u001b[0m\n\u001b[0;32m    136\u001b[0m                 \u001b[1;32mif\u001b[0m \u001b[0mm\u001b[0m \u001b[1;32mis\u001b[0m \u001b[1;32mNone\u001b[0m\u001b[1;33m:\u001b[0m\u001b[1;33m\u001b[0m\u001b[1;33m\u001b[0m\u001b[0m\n\u001b[0;32m    137\u001b[0m                     raise ValueError('Invalid literal for Fraction: %r' %\n\u001b[1;32m--> 138\u001b[1;33m                                      numerator)\n\u001b[0m\u001b[0;32m    139\u001b[0m                 \u001b[0mnumerator\u001b[0m \u001b[1;33m=\u001b[0m \u001b[0mint\u001b[0m\u001b[1;33m(\u001b[0m\u001b[0mm\u001b[0m\u001b[1;33m.\u001b[0m\u001b[0mgroup\u001b[0m\u001b[1;33m(\u001b[0m\u001b[1;34m'num'\u001b[0m\u001b[1;33m)\u001b[0m \u001b[1;32mor\u001b[0m \u001b[1;34m'0'\u001b[0m\u001b[1;33m)\u001b[0m\u001b[1;33m\u001b[0m\u001b[1;33m\u001b[0m\u001b[0m\n\u001b[0;32m    140\u001b[0m                 \u001b[0mdenom\u001b[0m \u001b[1;33m=\u001b[0m \u001b[0mm\u001b[0m\u001b[1;33m.\u001b[0m\u001b[0mgroup\u001b[0m\u001b[1;33m(\u001b[0m\u001b[1;34m'denom'\u001b[0m\u001b[1;33m)\u001b[0m\u001b[1;33m\u001b[0m\u001b[1;33m\u001b[0m\u001b[0m\n",
      "\u001b[1;31mValueError\u001b[0m: Invalid literal for Fraction: 'Soda water'"
     ]
    }
   ],
   "source": [
    "# Create list of measurement columns to loop through\n",
    "measurement_cols = [\"measurement-1\", \"measurement-2\", \"measurement-3\", \"measurement-4\", \"measurement-5\", \"measurement-6\"]\n",
    "\n",
    "# Loop through columns and strip units\n",
    "for col in measurement_cols:\n",
    "    cocktail_df[col] = cocktail_df[col].str.strip(\" oz\")\n",
    "    \n",
    "    for index, value in cocktail_df[col].items():\n",
    "        row = str(value)\n",
    "        if (\"tsp\" in row):\n",
    "            row = round(float(Fraction(row.split(\" tsp\")[0]))/6, 2)\n",
    "            cocktail_df[col][index] = row\n",
    "            print(cocktail_df[col][index])\n",
    "            \n",
    "        elif (\"glass\" in row):\n",
    "            row = 2.5\n",
    "            cocktail_df[col][index] = row\n",
    "            \n",
    "        elif (\"or\" in row):\n",
    "            row = round(float(Fraction(row.split(\" or\")[0])), 2)\n",
    "            cocktail_df[col][index] = row\n",
    "            print(cocktail_df[col][index])\n",
    "            \n",
    "        else:\n",
    "            if (len(row.split()) == 2):\n",
    "                try:\n",
    "                    row = row.split()\n",
    "                    row = round(float(Fraction(row[0]))+float(Fraction(row[1])), 2)\n",
    "                    \n",
    "                    cocktail_df[col][index] = row\n",
    "                    \n",
    "                except ValueError:\n",
    "                    row = 1.5\n",
    "\n",
    "            elif (pd.notna(row)) & (len(row.split()) == 1):\n",
    "                try:\n",
    "                    row = row.split()\n",
    "                    row = round(float(Fraction(row[0])), 2)\n",
    "                    \n",
    "                    cocktail_df[col][index] = row\n",
    "\n",
    "                except ValueError:\n",
    "                    row = 1.5\n",
    "    \n",
    "cocktail_df.head()"
   ]
  },
  {
   "cell_type": "code",
   "execution_count": null,
   "metadata": {},
   "outputs": [],
   "source": [
    "for col in measurement_cols:\n",
    "    float(Fraction(cocktail_df[\"measurement-1\"][1][1]))+float(Fraction(cocktail_df[\"measurement-1\"][1][0]))"
   ]
  },
  {
   "cell_type": "code",
   "execution_count": null,
   "metadata": {},
   "outputs": [],
   "source": [
    "\n",
    "if len(cocktail_df[\"measurement-1\"].str.split()) == 2:\n",
    "    cocktail_df[\"measurement-1\"] = float(Fraction(cocktail_df[\"measurement-1\"][0]))+float(Fraction(cocktail_df[\"measurement-1\"][1]))\n",
    "    \n",
    "cocktail_df"
   ]
  },
  {
   "cell_type": "code",
   "execution_count": 20,
   "metadata": {},
   "outputs": [],
   "source": [
    "for row, index in cocktail_df[measurement_cols].iterrows():\n",
    "    row = str(row)\n",
    "    if (pd.notna(row)) & (len(row.split()) == 2):\n",
    "        try:\n",
    "            row = row.split()\n",
    "            row = round(float(Fraction(row[0]))+float(Fraction(row[1])), 2)\n",
    "            print(row, index)\n",
    "        except ValueError:\n",
    "            row = 1.5\n",
    "        print(row, index)\n",
    "    elif (pd.notna(row)) & (len(row.split()) == 1):\n",
    "        try:\n",
    "            row = row.split()\n",
    "            row = round(float(Fraction(row[0])), 2)\n",
    "\n",
    "        except ValueError:\n",
    "            row = 1.5"
   ]
  }
 ],
 "metadata": {
  "kernelspec": {
   "display_name": "Python 3",
   "language": "python",
   "name": "python3"
  },
  "language_info": {
   "codemirror_mode": {
    "name": "ipython",
    "version": 3
   },
   "file_extension": ".py",
   "mimetype": "text/x-python",
   "name": "python",
   "nbconvert_exporter": "python",
   "pygments_lexer": "ipython3",
   "version": "3.6.10"
  }
 },
 "nbformat": 4,
 "nbformat_minor": 4
}
