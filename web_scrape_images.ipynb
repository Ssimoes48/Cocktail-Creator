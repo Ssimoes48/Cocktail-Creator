{
 "cells": [
  {
   "cell_type": "code",
   "execution_count": 12,
   "metadata": {},
   "outputs": [],
   "source": [
    "from splinter import Browser\n",
    "from bs4 import BeautifulSoup as bs\n",
    "import pandas as pd\n",
    "import requests\n",
    "from webdriver_manager.chrome import ChromeDriverManager"
   ]
  },
  {
   "cell_type": "code",
   "execution_count": 13,
   "metadata": {},
   "outputs": [
    {
     "name": "stderr",
     "output_type": "stream",
     "text": [
      "[WDM] - Current google-chrome version is 87.0.4280\n",
      "[WDM] - Get LATEST driver version for 87.0.4280\n"
     ]
    },
    {
     "name": "stdout",
     "output_type": "stream",
     "text": [
      " \n"
     ]
    },
    {
     "name": "stderr",
     "output_type": "stream",
     "text": [
      "[WDM] - There is no [win32] chromedriver for browser 87.0.4280 in cache\n",
      "[WDM] - Get LATEST driver version for 87.0.4280\n",
      "[WDM] - Trying to download new driver from http://chromedriver.storage.googleapis.com/87.0.4280.88/chromedriver_win32.zip\n",
      "[WDM] - Driver has been saved in cache [C:\\Users\\pbear\\.wdm\\drivers\\chromedriver\\win32\\87.0.4280.88]\n"
     ]
    }
   ],
   "source": [
    "executable_path = {'executable_path': ChromeDriverManager().install()}\n",
    "browser = Browser('chrome', **executable_path, headless=False)\n",
    "\n",
    "\n",
    "url = 'https://www.thecocktaildb.com/images/media/drink/vcyvpq1485083300.jpg'\n"
   ]
  },
  {
   "cell_type": "code",
   "execution_count": 8,
   "metadata": {},
   "outputs": [],
   "source": [
    "response = requests.get(url)"
   ]
  },
  {
   "cell_type": "code",
   "execution_count": 9,
   "metadata": {},
   "outputs": [],
   "source": [
    "soup = BeautifulSoup(response.text, 'html.parser')"
   ]
  },
  {
   "cell_type": "code",
   "execution_count": null,
   "metadata": {},
   "outputs": [],
   "source": [
    "and imagebutton['src'] == \"../images/icons/5.png\""
   ]
  },
  {
   "cell_type": "code",
   "execution_count": 130,
   "metadata": {},
   "outputs": [
    {
     "name": "stdout",
     "output_type": "stream",
     "text": [
      "<a href=\"/drink/15194\"><img src=\"../images/icons/5.png\" style=\"width:30%\"/></a>\n",
      "<a href=\"/drink/15200\"><img src=\"../images/icons/5.png\" style=\"width:30%\"/></a>\n",
      "<a href=\"/drink/15224\"><img src=\"../images/icons/5.png\" style=\"width:30%\"/></a>\n",
      "<a href=\"/drink/15226\"><img src=\"../images/icons/5.png\" style=\"width:30%\"/></a>\n",
      "<a href=\"/drink/15254\"><img src=\"../images/icons/5.png\" style=\"width:30%\"/></a>\n"
     ]
    },
    {
     "data": {
      "text/plain": [
       "[{'title': '\\n\\t\\t\\t\\tSan Francisco ',\n",
       "  'url': 'https://www.thecocktaildb.com/images/media/drink/szmj2d1504889961.jpg'},\n",
       " {'title': '\\n\\t\\t\\t\\tAmaretto Shake ',\n",
       "  'url': 'https://www.thecocktaildb.com/images/media/drink/xk79al1493069655.jpg'},\n",
       " {'title': '\\n\\t\\t\\t\\tA Day at the Beach ',\n",
       "  'url': 'https://www.thecocktaildb.com/images/media/drink/trptts1454514474.jpg'},\n",
       " {'title': '\\n\\t\\t\\t\\tMalibu Twister ',\n",
       "  'url': 'https://www.thecocktaildb.com/images/media/drink/2dwae41504885321.jpg'},\n",
       " {'title': '\\n\\t\\t\\t\\tSpace Odyssey ',\n",
       "  'url': 'https://www.thecocktaildb.com/images/media/drink/vxtjbx1504817842.jpg'}]"
      ]
     },
     "execution_count": 130,
     "metadata": {},
     "output_type": "execute_result"
    }
   ],
   "source": [
    "cocktail_url = \"https://www.thecocktaildb.com/drink/15184\"\n",
    "browser.visit(cocktail_url)\n",
    "\n",
    "cocktail_dic = []\n",
    "cocktail_img_urls = []\n",
    "\n",
    "for i in range(5): \n",
    "    \n",
    "    soup = bs(browser.html, 'html.parser')\n",
    "    img_title = soup.find(\"h2\").text\n",
    "    img_url = soup.find(\"a\", rel =\"prettyPhoto\")[\"href\"]\n",
    "    cocktail_dic = {\"title\": img_title, \"url\": img_url}\n",
    "    cocktail_img_urls.append(cocktail_dic)\n",
    "    buttons = soup.find_all(\"a\")\n",
    "    for button in buttons:\n",
    "        imagebutton = button.find(\"img\", src=\"../images/icons/5.png\")\n",
    "\n",
    "        if imagebutton :\n",
    "            \n",
    "            print(button)\n",
    "            var = \"https://www.thecocktaildb.com\" + button['href']\n",
    "            break\n",
    "            \n",
    "    browser.visit(var)\n",
    "        \n",
    "#     print(var)\n",
    "    \n",
    "cocktail_img_urls\n"
   ]
  }
 ],
 "metadata": {
  "kernelspec": {
   "display_name": "Python 3",
   "language": "python",
   "name": "python3"
  },
  "language_info": {
   "codemirror_mode": {
    "name": "ipython",
    "version": 3
   },
   "file_extension": ".py",
   "mimetype": "text/x-python",
   "name": "python",
   "nbconvert_exporter": "python",
   "pygments_lexer": "ipython3",
   "version": "3.7.8"
  }
 },
 "nbformat": 4,
 "nbformat_minor": 4
}
