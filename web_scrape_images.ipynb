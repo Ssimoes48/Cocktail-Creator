{
 "cells": [
  {
   "cell_type": "code",
   "execution_count": 1,
   "metadata": {},
   "outputs": [],
   "source": [
    "from splinter import Browser\n",
    "from bs4 import BeautifulSoup as bs\n",
    "import pandas as pd\n",
    "import requests\n",
    "from webdriver_manager.chrome import ChromeDriverManager"
   ]
  },
  {
   "cell_type": "code",
   "execution_count": 2,
   "metadata": {},
   "outputs": [
    {
     "name": "stderr",
     "output_type": "stream",
     "text": [
      "[WDM] - Current google-chrome version is 87.0.4280\n",
      "[WDM] - Get LATEST driver version for 87.0.4280\n",
      "[WDM] - Driver [C:\\Users\\pbear\\.wdm\\drivers\\chromedriver\\win32\\87.0.4280.88\\chromedriver.exe] found in cache\n"
     ]
    },
    {
     "name": "stdout",
     "output_type": "stream",
     "text": [
      " \n"
     ]
    }
   ],
   "source": [
    "executable_path = {'executable_path': ChromeDriverManager().install()}\n",
    "browser = Browser('chrome', **executable_path, headless=False)\n",
    "\n",
    "\n",
    "url = 'https://www.thecocktaildb.com/images/media/drink/vcyvpq1485083300.jpg'\n"
   ]
  },
  {
   "cell_type": "code",
   "execution_count": 3,
   "metadata": {},
   "outputs": [],
   "source": [
    "response = requests.get(url)"
   ]
  },
  {
   "cell_type": "code",
   "execution_count": 9,
   "metadata": {},
   "outputs": [],
   "source": [
    "soup = BeautifulSoup(response.text, 'html.parser')"
   ]
  },
  {
   "cell_type": "code",
   "execution_count": null,
   "metadata": {},
   "outputs": [],
   "source": [
    "#google drink search url\n",
    "\n",
    "drink = \n",
    "http://www.google.com/search?q=<drink>&tbm=isch"
   ]
  },
  {
   "cell_type": "code",
   "execution_count": 3,
   "metadata": {},
   "outputs": [
    {
     "name": "stdout",
     "output_type": "stream",
     "text": [
      "<a href=\"/drink/15194\"><img src=\"../images/icons/5.png\" style=\"width:30%\"/></a>\n",
      "<a href=\"/drink/15200\"><img src=\"../images/icons/5.png\" style=\"width:30%\"/></a>\n",
      "<a href=\"/drink/15224\"><img src=\"../images/icons/5.png\" style=\"width:30%\"/></a>\n",
      "<a href=\"/drink/15226\"><img src=\"../images/icons/5.png\" style=\"width:30%\"/></a>\n",
      "<a href=\"/drink/15254\"><img src=\"../images/icons/5.png\" style=\"width:30%\"/></a>\n",
      "<a href=\"/drink/15266\"><img src=\"../images/icons/5.png\" style=\"width:30%\"/></a>\n",
      "<a href=\"/drink/15288\"><img src=\"../images/icons/5.png\" style=\"width:30%\"/></a>\n",
      "<a href=\"/drink/15300\"><img src=\"../images/icons/5.png\" style=\"width:30%\"/></a>\n",
      "<a href=\"/drink/15328\"><img src=\"../images/icons/5.png\" style=\"width:30%\"/></a>\n",
      "<a href=\"/drink/15330\"><img src=\"../images/icons/5.png\" style=\"width:30%\"/></a>\n",
      "<a href=\"/drink/15346\"><img src=\"../images/icons/5.png\" style=\"width:30%\"/></a>\n",
      "<a href=\"/drink/15395\"><img src=\"../images/icons/5.png\" style=\"width:30%\"/></a>\n",
      "<a href=\"/drink/15403\"><img src=\"../images/icons/5.png\" style=\"width:30%\"/></a>\n",
      "<a href=\"/drink/15409\"><img src=\"../images/icons/5.png\" style=\"width:30%\"/></a>\n",
      "<a href=\"/drink/15423\"><img src=\"../images/icons/5.png\" style=\"width:30%\"/></a>\n",
      "<a href=\"/drink/15427\"><img src=\"../images/icons/5.png\" style=\"width:30%\"/></a>\n",
      "<a href=\"/drink/15511\"><img src=\"../images/icons/5.png\" style=\"width:30%\"/></a>\n",
      "<a href=\"/drink/15515\"><img src=\"../images/icons/5.png\" style=\"width:30%\"/></a>\n",
      "<a href=\"/drink/15521\"><img src=\"../images/icons/5.png\" style=\"width:30%\"/></a>\n",
      "<a href=\"/drink/15567\"><img src=\"../images/icons/5.png\" style=\"width:30%\"/></a>\n",
      "<a href=\"/drink/15597\"><img src=\"../images/icons/5.png\" style=\"width:30%\"/></a>\n",
      "<a href=\"/drink/15615\"><img src=\"../images/icons/5.png\" style=\"width:30%\"/></a>\n",
      "<a href=\"/drink/15639\"><img src=\"../images/icons/5.png\" style=\"width:30%\"/></a>\n",
      "<a href=\"/drink/15675\"><img src=\"../images/icons/5.png\" style=\"width:30%\"/></a>\n",
      "<a href=\"/drink/15691\"><img src=\"../images/icons/5.png\" style=\"width:30%\"/></a>\n",
      "<a href=\"/drink/15743\"><img src=\"../images/icons/5.png\" style=\"width:30%\"/></a>\n",
      "<a href=\"/drink/15761\"><img src=\"../images/icons/5.png\" style=\"width:30%\"/></a>\n",
      "<a href=\"/drink/15789\"><img src=\"../images/icons/5.png\" style=\"width:30%\"/></a>\n",
      "<a href=\"/drink/15801\"><img src=\"../images/icons/5.png\" style=\"width:30%\"/></a>\n",
      "<a href=\"/drink/15813\"><img src=\"../images/icons/5.png\" style=\"width:30%\"/></a>\n",
      "<a href=\"/drink/15825\"><img src=\"../images/icons/5.png\" style=\"width:30%\"/></a>\n",
      "<a href=\"/drink/15841\"><img src=\"../images/icons/5.png\" style=\"width:30%\"/></a>\n",
      "<a href=\"/drink/15849\"><img src=\"../images/icons/5.png\" style=\"width:30%\"/></a>\n",
      "<a href=\"/drink/15853\"><img src=\"../images/icons/5.png\" style=\"width:30%\"/></a>\n",
      "<a href=\"/drink/15933\"><img src=\"../images/icons/5.png\" style=\"width:30%\"/></a>\n",
      "<a href=\"/drink/15941\"><img src=\"../images/icons/5.png\" style=\"width:30%\"/></a>\n"
     ]
    },
    {
     "ename": "TypeError",
     "evalue": "'NoneType' object is not subscriptable",
     "output_type": "error",
     "traceback": [
      "\u001b[1;31m---------------------------------------------------------------------------\u001b[0m",
      "\u001b[1;31mTypeError\u001b[0m                                 Traceback (most recent call last)",
      "\u001b[1;32m<ipython-input-3-796eac4e825b>\u001b[0m in \u001b[0;36m<module>\u001b[1;34m()\u001b[0m\n\u001b[0;32m      9\u001b[0m     \u001b[0msoup\u001b[0m \u001b[1;33m=\u001b[0m \u001b[0mbs\u001b[0m\u001b[1;33m(\u001b[0m\u001b[0mbrowser\u001b[0m\u001b[1;33m.\u001b[0m\u001b[0mhtml\u001b[0m\u001b[1;33m,\u001b[0m \u001b[1;34m'html.parser'\u001b[0m\u001b[1;33m)\u001b[0m\u001b[1;33m\u001b[0m\u001b[1;33m\u001b[0m\u001b[0m\n\u001b[0;32m     10\u001b[0m     \u001b[0mimg_title\u001b[0m \u001b[1;33m=\u001b[0m \u001b[0msoup\u001b[0m\u001b[1;33m.\u001b[0m\u001b[0mfind\u001b[0m\u001b[1;33m(\u001b[0m\u001b[1;34m\"h2\"\u001b[0m\u001b[1;33m)\u001b[0m\u001b[1;33m.\u001b[0m\u001b[0mtext\u001b[0m\u001b[1;33m\u001b[0m\u001b[1;33m\u001b[0m\u001b[0m\n\u001b[1;32m---> 11\u001b[1;33m     \u001b[0mimg_url\u001b[0m \u001b[1;33m=\u001b[0m \u001b[0msoup\u001b[0m\u001b[1;33m.\u001b[0m\u001b[0mfind\u001b[0m\u001b[1;33m(\u001b[0m\u001b[1;34m\"a\"\u001b[0m\u001b[1;33m,\u001b[0m \u001b[0mrel\u001b[0m \u001b[1;33m=\u001b[0m\u001b[1;34m\"prettyPhoto\"\u001b[0m\u001b[1;33m)\u001b[0m\u001b[1;33m[\u001b[0m\u001b[1;34m\"href\"\u001b[0m\u001b[1;33m]\u001b[0m\u001b[1;33m\u001b[0m\u001b[1;33m\u001b[0m\u001b[0m\n\u001b[0m\u001b[0;32m     12\u001b[0m     \u001b[0mcocktail_dic\u001b[0m \u001b[1;33m=\u001b[0m \u001b[1;33m{\u001b[0m\u001b[1;34m\"title\"\u001b[0m\u001b[1;33m:\u001b[0m \u001b[0mimg_title\u001b[0m\u001b[1;33m,\u001b[0m \u001b[1;34m\"url\"\u001b[0m\u001b[1;33m:\u001b[0m \u001b[0mimg_url\u001b[0m\u001b[1;33m}\u001b[0m\u001b[1;33m\u001b[0m\u001b[1;33m\u001b[0m\u001b[0m\n\u001b[0;32m     13\u001b[0m     \u001b[0mcocktail_img_urls\u001b[0m\u001b[1;33m.\u001b[0m\u001b[0mappend\u001b[0m\u001b[1;33m(\u001b[0m\u001b[0mcocktail_dic\u001b[0m\u001b[1;33m)\u001b[0m\u001b[1;33m\u001b[0m\u001b[1;33m\u001b[0m\u001b[0m\n",
      "\u001b[1;31mTypeError\u001b[0m: 'NoneType' object is not subscriptable"
     ]
    }
   ],
   "source": [
    "cocktail_url = \"https://www.thecocktaildb.com/drink/15184\"\n",
    "browser.visit(cocktail_url)\n",
    "\n",
    "cocktail_dic = []\n",
    "cocktail_img_urls = []\n",
    "\n",
    "for i in range(100): \n",
    "    \n",
    "    soup = bs(browser.html, 'html.parser')\n",
    "    img_title = soup.find(\"h2\").text\n",
    "    img_url = soup.find(\"a\", rel =\"prettyPhoto\")[\"href\"]\n",
    "    cocktail_dic = {\"title\": img_title, \"url\": img_url}\n",
    "    cocktail_img_urls.append(cocktail_dic)\n",
    "    buttons = soup.find_all(\"a\")\n",
    "    for button in buttons:\n",
    "        imagebutton = button.find(\"img\", src=\"../images/icons/5.png\")\n",
    "\n",
    "        if imagebutton :\n",
    "            \n",
    "            print(button)\n",
    "            var = \"https://www.thecocktaildb.com\" + button['href']\n",
    "            break\n",
    "            \n",
    "    browser.visit(var)\n",
    "        \n",
    "#     print(var)\n",
    "    \n",
    "print(cocktail_img_urls)\n"
   ]
  }
 ],
 "metadata": {
  "kernelspec": {
   "display_name": "Python 3",
   "language": "python",
   "name": "python3"
  },
  "language_info": {
   "codemirror_mode": {
    "name": "ipython",
    "version": 3
   },
   "file_extension": ".py",
   "mimetype": "text/x-python",
   "name": "python",
   "nbconvert_exporter": "python",
   "pygments_lexer": "ipython3",
   "version": "3.7.8"
  }
 },
 "nbformat": 4,
 "nbformat_minor": 4
}
